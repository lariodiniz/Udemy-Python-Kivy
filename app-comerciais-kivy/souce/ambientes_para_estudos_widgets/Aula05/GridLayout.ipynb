{
 "cells": [
  {
   "cell_type": "code",
   "execution_count": 1,
   "metadata": {},
   "outputs": [
    {
     "name": "stderr",
     "output_type": "stream",
     "text": [
      "[INFO   ] [Logger      ] Record log in C:\\Users\\PALO-LARIO\\.kivy\\logs\\kivy_18-07-25_9.txt\n",
      "[INFO   ] [Kivy        ] v1.10.0\n",
      "[INFO   ] [Python      ] v3.5.5 |Anaconda, Inc.| (default, Apr  7 2018, 04:52:34) [MSC v.1900 64 bit (AMD64)]\n",
      "[INFO   ] [Factory     ] 194 symbols loaded\n",
      "[INFO   ] [Image       ] Providers: img_tex, img_dds, img_sdl2, img_gif (img_pil, img_ffpyplayer ignored)\n",
      "[INFO   ] [Text        ] Provider: sdl2\n",
      "[WARNING] [Call to deprecated function __init__ in C]\\Users\\PALO-LARIO\\Anaconda3\\envs\\k35\\lib\\site-packages\\kivy\\interactive.py line 308.Called from <ipython-input-2-1d5327e8345f> line 7 by <module>().\n",
      "[INFO   ] [OSC         ] using <thread> for socket\n",
      "[INFO   ] [Window      ] Provider: sdl2\n",
      "[INFO   ] [GL          ] Using the \"OpenGL\" graphics system\n",
      "[INFO   ] [GL          ] GLEW initialization succeeded\n",
      "[INFO   ] [GL          ] Backend used <glew>\n",
      "[INFO   ] [GL          ] OpenGL version <b'4.5.0 - Build 22.20.16.4836'>\n",
      "[INFO   ] [GL          ] OpenGL vendor <b'Intel'>\n",
      "[INFO   ] [GL          ] OpenGL renderer <b'Intel(R) HD Graphics 620'>\n",
      "[INFO   ] [GL          ] OpenGL parsed version: 4, 5\n",
      "[INFO   ] [GL          ] Shading version <b'4.50 - Build 22.20.16.4836'>\n",
      "[INFO   ] [GL          ] Texture max size <16384>\n",
      "[INFO   ] [GL          ] Texture max units <32>\n",
      "[INFO   ] [Shader      ] fragment shader: <b\"WARNING: 0:4: '' :  #version directive missing\">\n",
      "[INFO   ] [Shader      ] vertex shader: <b\"WARNING: 0:4: '' :  #version directive missing\">\n",
      "[INFO   ] [Window      ] auto add sdl2 input provider\n",
      "[INFO   ] [Window      ] virtual keyboard not allowed, single mode, not docked\n",
      "[INFO   ] [Base        ] Start application main loop\n",
      "[INFO   ] [GL          ] NPOT texture support is available\n",
      "[WARNING] <kivy.uix.gridlayout.GridLayout object at 0x00000218CF19B250> have no cols or rows set, layout is not triggered.\n",
      "[WARNING] <kivy.uix.gridlayout.GridLayout object at 0x00000218CF16EC78> have no cols or rows set, layout is not triggered.\n",
      "[WARNING] <kivy.uix.gridlayout.GridLayout object at 0x00000218CF16E798> have no cols or rows set, layout is not triggered.\n",
      "[WARNING] <kivy.uix.gridlayout.GridLayout object at 0x00000218D165FD48> have no cols or rows set, layout is not triggered.\n",
      "[WARNING] <kivy.uix.gridlayout.GridLayout object at 0x00000218D165FCE0> have no cols or rows set, layout is not triggered.\n",
      "[INFO   ] [Base        ] Leaving application in progress...\n"
     ]
    }
   ],
   "source": [
    "#coding: utf-8\n",
    "#author: Lário dos Santos Diniz\n",
    "__author__ = \"Lário dos Santos Diniz\"\n",
    "\n",
    "from kivy.app import App\n",
    "from kivy.uix.button import Button\n",
    "from kivy.interactive import InteractiveLauncher\n",
    "from kivy.lang import Builder\n",
    "\n",
    "#Configurando para a aplicação não abrir em fullscream\n",
    "#necessrio apenas para trabalhar no jupyter\n",
    "from kivy.config import Config\n",
    "Config.set(\"graphics\", \"fullscreen\", \"0\")\n",
    "\n",
    "import kivy\n",
    "#define a versão minima da aplicação kivy\n",
    "kivy.require('1.9.1')\n",
    "\n",
    "janela = None\n",
    "glayout = None"
   ]
  },
  {
   "cell_type": "code",
   "execution_count": 2,
   "metadata": {},
   "outputs": [],
   "source": [
    "class JanelaApp(App):\n",
    "    pass\n",
    "\n",
    "janela = JanelaApp()\n",
    "\n",
    "#Janela interativa\n",
    "ji = InteractiveLauncher(janela)\n",
    "ji.run()"
   ]
  },
  {
   "cell_type": "code",
   "execution_count": 34,
   "metadata": {
    "scrolled": true
   },
   "outputs": [],
   "source": [
    "\n",
    "kvcode = \"\"\"\n",
    "GridLayout:\n",
    "    cols: 3\n",
    "    rows: None\n",
    "    \n",
    "    #Define a altura das linhas\n",
    "    row_default_height: 50\n",
    "    row_force_default: True\n",
    "    \n",
    "    #Define a largura das colunas\n",
    "    #col_default_width: 50\n",
    "    #col_force_default: True    \n",
    "    \n",
    "    Button:\n",
    "        text: \"A\"\n",
    "        size_hint: .3, None\n",
    "    Button:\n",
    "        text: \"B\"\n",
    "    Button:\n",
    "        text: \"C\"        \n",
    "    Button:\n",
    "        text: \"D\"        \n",
    "        size_hint: .3, None\n",
    "    Button:\n",
    "        text: \"E\"\n",
    "    Button:\n",
    "        text: \"F\"\n",
    "    Button:\n",
    "        text: \"G\"          \n",
    "        size_hint: .3, None\n",
    "\n",
    "\"\"\"\n",
    "\n",
    "if (janela.root):\n",
    "    janela.root_window.remove_widget(janela.root) \n",
    "    janela.root = None\n",
    "    glayout = None\n",
    "\n",
    "janela.root = glayout = Builder.load_string(kvcode)\n",
    "janela.root_window.add_widget(glayout)"
   ]
  },
  {
   "cell_type": "code",
   "execution_count": 23,
   "metadata": {},
   "outputs": [],
   "source": [
    "glayout.add_widget(Button(text=\"x\"))"
   ]
  },
  {
   "cell_type": "code",
   "execution_count": null,
   "metadata": {},
   "outputs": [],
   "source": []
  },
  {
   "cell_type": "code",
   "execution_count": null,
   "metadata": {},
   "outputs": [],
   "source": []
  }
 ],
 "metadata": {
  "kernelspec": {
   "display_name": "Python 3",
   "language": "python",
   "name": "python3"
  },
  "language_info": {
   "codemirror_mode": {
    "name": "ipython",
    "version": 3
   },
   "file_extension": ".py",
   "mimetype": "text/x-python",
   "name": "python",
   "nbconvert_exporter": "python",
   "pygments_lexer": "ipython3",
   "version": "3.5.5"
  }
 },
 "nbformat": 4,
 "nbformat_minor": 2
}
