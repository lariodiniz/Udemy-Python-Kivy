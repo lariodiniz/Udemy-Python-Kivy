{
 "cells": [
  {
   "cell_type": "code",
   "execution_count": null,
   "metadata": {},
   "outputs": [],
   "source": [
    "#coding: utf-8\n",
    "#author: Lário dos Santos Diniz\n",
    "__author__ = \"Lário dos Santos Diniz\"\n",
    "\n",
    "from kivy.app import App\n",
    "from kivy.uix.button import Button\n",
    "from kivy.interactive import InteractiveLauncher\n",
    "from kivy.lang import Builder\n",
    "\n",
    "#Configurando para a aplicação não abrir em fullscream\n",
    "#necessrio apenas para trabalhar no jupyter\n",
    "from kivy.config import Config\n",
    "Config.set(\"graphics\", \"fullscreen\", \"0\")\n",
    "\n",
    "import kivy\n",
    "#define a versão minima da aplicação kivy\n",
    "kivy.require('1.9.1')\n",
    "\n",
    "janela = None\n",
    "glayout = None"
   ]
  },
  {
   "cell_type": "code",
   "execution_count": null,
   "metadata": {},
   "outputs": [],
   "source": [
    "class JanelaApp(App):\n",
    "    pass\n",
    "\n",
    "janela = JanelaApp()\n",
    "\n",
    "#Janela interativa\n",
    "ji = InteractiveLauncher(janela)\n",
    "ji.run()"
   ]
  },
  {
   "cell_type": "code",
   "execution_count": null,
   "metadata": {
    "scrolled": true
   },
   "outputs": [],
   "source": [
    "\n",
    "kvcode = \"\"\"\n",
    "StackLayout:\n",
    "    orientation: \"bt-lr\"\n",
    "    Button:\n",
    "        text:\"A\"\n",
    "        size_hint: .33, .1\n",
    "    Button:\n",
    "        text:\"B\"\n",
    "        size_hint: .33, .1\n",
    "    Button:\n",
    "        text:\"C\"\n",
    "        size_hint: .33, .1\n",
    "\"\"\"\n",
    "\n",
    "if (janela.root):\n",
    "    janela.root_window.remove_widget(janela.root) \n",
    "    janela.root = None\n",
    "    glayout = None\n",
    "\n",
    "janela.root = glayout = Builder.load_string(kvcode)\n",
    "janela.root_window.add_widget(glayout)"
   ]
  },
  {
   "cell_type": "code",
   "execution_count": null,
   "metadata": {},
   "outputs": [],
   "source": [
    "glayout.add_widget(Button(text=\"x\", size_hint=(.33,.1)))"
   ]
  },
  {
   "cell_type": "code",
   "execution_count": null,
   "metadata": {},
   "outputs": [],
   "source": [
    "glayout.orientation = \"rl-bt\""
   ]
  },
  {
   "cell_type": "code",
   "execution_count": null,
   "metadata": {},
   "outputs": [],
   "source": []
  }
 ],
 "metadata": {
  "kernelspec": {
   "display_name": "Python 3",
   "language": "python",
   "name": "python3"
  },
  "language_info": {
   "codemirror_mode": {
    "name": "ipython",
    "version": 3
   },
   "file_extension": ".py",
   "mimetype": "text/x-python",
   "name": "python",
   "nbconvert_exporter": "python",
   "pygments_lexer": "ipython3",
   "version": "3.5.5"
  }
 },
 "nbformat": 4,
 "nbformat_minor": 2
}
